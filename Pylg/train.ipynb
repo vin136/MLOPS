{
 "cells": [
  {
   "cell_type": "code",
   "execution_count": 1,
   "id": "dce4566d-3631-4b29-a4a4-2ee6f61d734f",
   "metadata": {},
   "outputs": [],
   "source": [
    "import torch"
   ]
  },
  {
   "cell_type": "code",
   "execution_count": 7,
   "id": "0217b3fe-193a-4089-851b-b4b5befc6dc4",
   "metadata": {},
   "outputs": [],
   "source": [
    "import pandas as pd\n",
    "df = pd.read_csv('data/train.csv')\n",
    "df_t = pd.read_csv('data/test.csv')"
   ]
  },
  {
   "cell_type": "markdown",
   "id": "077049d3-7ffd-4615-8928-87799114d127",
   "metadata": {},
   "source": [
    "## Cleaning and storing the data"
   ]
  },
  {
   "cell_type": "code",
   "execution_count": 4,
   "id": "8d0c04b9-436f-4e78-8b2a-a49bebb1e213",
   "metadata": {},
   "outputs": [
    {
     "data": {
      "text/html": [
       "<div>\n",
       "<style scoped>\n",
       "    .dataframe tbody tr th:only-of-type {\n",
       "        vertical-align: middle;\n",
       "    }\n",
       "\n",
       "    .dataframe tbody tr th {\n",
       "        vertical-align: top;\n",
       "    }\n",
       "\n",
       "    .dataframe thead th {\n",
       "        text-align: right;\n",
       "    }\n",
       "</style>\n",
       "<table border=\"1\" class=\"dataframe\">\n",
       "  <thead>\n",
       "    <tr style=\"text-align: right;\">\n",
       "      <th></th>\n",
       "      <th>PassengerId</th>\n",
       "      <th>Survived</th>\n",
       "      <th>Pclass</th>\n",
       "      <th>Name</th>\n",
       "      <th>Sex</th>\n",
       "      <th>Age</th>\n",
       "      <th>SibSp</th>\n",
       "      <th>Parch</th>\n",
       "      <th>Ticket</th>\n",
       "      <th>Fare</th>\n",
       "      <th>Cabin</th>\n",
       "      <th>Embarked</th>\n",
       "    </tr>\n",
       "  </thead>\n",
       "  <tbody>\n",
       "    <tr>\n",
       "      <th>0</th>\n",
       "      <td>1</td>\n",
       "      <td>0</td>\n",
       "      <td>3</td>\n",
       "      <td>Braund, Mr. Owen Harris</td>\n",
       "      <td>male</td>\n",
       "      <td>22.0</td>\n",
       "      <td>1</td>\n",
       "      <td>0</td>\n",
       "      <td>A/5 21171</td>\n",
       "      <td>7.2500</td>\n",
       "      <td>NaN</td>\n",
       "      <td>S</td>\n",
       "    </tr>\n",
       "    <tr>\n",
       "      <th>1</th>\n",
       "      <td>2</td>\n",
       "      <td>1</td>\n",
       "      <td>1</td>\n",
       "      <td>Cumings, Mrs. John Bradley (Florence Briggs Th...</td>\n",
       "      <td>female</td>\n",
       "      <td>38.0</td>\n",
       "      <td>1</td>\n",
       "      <td>0</td>\n",
       "      <td>PC 17599</td>\n",
       "      <td>71.2833</td>\n",
       "      <td>C85</td>\n",
       "      <td>C</td>\n",
       "    </tr>\n",
       "  </tbody>\n",
       "</table>\n",
       "</div>"
      ],
      "text/plain": [
       "   PassengerId  Survived  Pclass  \\\n",
       "0            1         0       3   \n",
       "1            2         1       1   \n",
       "\n",
       "                                                Name     Sex   Age  SibSp  \\\n",
       "0                            Braund, Mr. Owen Harris    male  22.0      1   \n",
       "1  Cumings, Mrs. John Bradley (Florence Briggs Th...  female  38.0      1   \n",
       "\n",
       "   Parch     Ticket     Fare Cabin Embarked  \n",
       "0      0  A/5 21171   7.2500   NaN        S  \n",
       "1      0   PC 17599  71.2833   C85        C  "
      ]
     },
     "execution_count": 4,
     "metadata": {},
     "output_type": "execute_result"
    }
   ],
   "source": [
    "df.head(2)"
   ]
  },
  {
   "cell_type": "code",
   "execution_count": 8,
   "id": "0049f5d4-8dee-4ebf-a561-eb45695d7634",
   "metadata": {},
   "outputs": [],
   "source": [
    "sex_mapper = {'male':0,'female':1}\n",
    "df['Sex'] = df['Sex'].map(sex_mapper)\n",
    "df_t['Sex'] = df_t['Sex'].map(sex_mapper)\n",
    "        "
   ]
  },
  {
   "cell_type": "code",
   "execution_count": 9,
   "id": "89dd5609-7786-4da5-b53b-bf2c6c3ff0e9",
   "metadata": {},
   "outputs": [
    {
     "name": "stdout",
     "output_type": "stream",
     "text": [
      "<class 'pandas.core.frame.DataFrame'>\n",
      "RangeIndex: 891 entries, 0 to 890\n",
      "Data columns (total 12 columns):\n",
      " #   Column       Non-Null Count  Dtype  \n",
      "---  ------       --------------  -----  \n",
      " 0   PassengerId  891 non-null    int64  \n",
      " 1   Survived     891 non-null    int64  \n",
      " 2   Pclass       891 non-null    int64  \n",
      " 3   Name         891 non-null    object \n",
      " 4   Sex          891 non-null    int64  \n",
      " 5   Age          714 non-null    float64\n",
      " 6   SibSp        891 non-null    int64  \n",
      " 7   Parch        891 non-null    int64  \n",
      " 8   Ticket       891 non-null    object \n",
      " 9   Fare         891 non-null    float64\n",
      " 10  Cabin        204 non-null    object \n",
      " 11  Embarked     889 non-null    object \n",
      "dtypes: float64(2), int64(6), object(4)\n",
      "memory usage: 83.7+ KB\n"
     ]
    }
   ],
   "source": [
    "df.info()"
   ]
  },
  {
   "cell_type": "code",
   "execution_count": 10,
   "id": "f30b0ad3-58c7-4bb6-9b3d-d57273d7762a",
   "metadata": {},
   "outputs": [
    {
     "name": "stdout",
     "output_type": "stream",
     "text": [
      "<class 'pandas.core.frame.DataFrame'>\n",
      "RangeIndex: 418 entries, 0 to 417\n",
      "Data columns (total 11 columns):\n",
      " #   Column       Non-Null Count  Dtype  \n",
      "---  ------       --------------  -----  \n",
      " 0   PassengerId  418 non-null    int64  \n",
      " 1   Pclass       418 non-null    int64  \n",
      " 2   Name         418 non-null    object \n",
      " 3   Sex          418 non-null    int64  \n",
      " 4   Age          332 non-null    float64\n",
      " 5   SibSp        418 non-null    int64  \n",
      " 6   Parch        418 non-null    int64  \n",
      " 7   Ticket       418 non-null    object \n",
      " 8   Fare         417 non-null    float64\n",
      " 9   Cabin        91 non-null     object \n",
      " 10  Embarked     418 non-null    object \n",
      "dtypes: float64(2), int64(5), object(4)\n",
      "memory usage: 36.0+ KB\n"
     ]
    }
   ],
   "source": [
    "df_t.info()"
   ]
  },
  {
   "cell_type": "code",
   "execution_count": 11,
   "id": "6fc2c020-60c3-4e7e-a768-eec196749c1a",
   "metadata": {},
   "outputs": [],
   "source": [
    "def get_title(name):\n",
    "    first = name.split(',')\n",
    "    second = first[1].split('.')\n",
    "    return second[0]"
   ]
  },
  {
   "cell_type": "code",
   "execution_count": 12,
   "id": "66d5c7bc-a41c-4b53-9aef-bdae96f0a422",
   "metadata": {},
   "outputs": [
    {
     "name": "stdout",
     "output_type": "stream",
     "text": [
      " Mr & 119\n",
      "32.368090452261306\n",
      " Mrs & 17\n",
      "35.898148148148145\n",
      " Miss & 36\n",
      "21.773972602739725\n",
      " Master & 4\n",
      "4.574166666666667\n",
      " Dr & 1\n",
      "42.0\n"
     ]
    }
   ],
   "source": [
    "df.Name = df.Name.apply(get_title)\n",
    "df_t.Name = df_t.Name.apply(get_title)\n",
    "\n",
    "\n",
    "def best_age(name):\n",
    "    return df.loc[(df.Name == name)].Age.mean()\n",
    "\n",
    "for i in df.Name.unique():\n",
    "    if (df.loc[(df.Name == i)].Age.isnull().sum()) > 0:\n",
    "        print(i, \"&\", df.loc[(df.Name == i)].Age.isnull().sum())\n",
    "        print(best_age(i))"
   ]
  },
  {
   "cell_type": "code",
   "execution_count": 14,
   "id": "5cb60c98-d39d-4230-a40f-df90cc10c5fc",
   "metadata": {},
   "outputs": [],
   "source": [
    "df.Age=df.Age.fillna(df.Name.apply(best_age))\n",
    "df_t.Age=df_t.Age.fillna(df_t.Name.apply(best_age))"
   ]
  },
  {
   "cell_type": "code",
   "execution_count": 17,
   "id": "226cbe4d-8d36-4ff0-b84f-2c607dd63c26",
   "metadata": {},
   "outputs": [
    {
     "data": {
      "text/plain": [
       "PassengerId      0\n",
       "Survived         0\n",
       "Pclass           0\n",
       "Name             0\n",
       "Sex              0\n",
       "Age              0\n",
       "SibSp            0\n",
       "Parch            0\n",
       "Ticket           0\n",
       "Fare             0\n",
       "Cabin          687\n",
       "Embarked         2\n",
       "dtype: int64"
      ]
     },
     "execution_count": 17,
     "metadata": {},
     "output_type": "execute_result"
    }
   ],
   "source": [
    "df.isnull().sum()"
   ]
  },
  {
   "cell_type": "code",
   "execution_count": null,
   "id": "bcc1073a-c4c3-4764-9006-ef1a2a91e8c1",
   "metadata": {},
   "outputs": [],
   "source": []
  },
  {
   "cell_type": "code",
   "execution_count": 19,
   "id": "ec3cb131-65d6-4c13-9745-9c4c371a295c",
   "metadata": {},
   "outputs": [],
   "source": [
    "y_train = df.Survived \n",
    "X_train = df.drop(\"Survived\", axis=1)\n",
    "X_train = X_train.drop([\"Ticket\", \"Cabin\", \"PassengerId\"], axis=1) # removing other 3 figures from dataset\n",
    "X_train.loc[(X_train.Name == \" Miss\") & (X_train.SibSp == 0) & (X_train.Parch== 0) & (X_train.Embarked == \"S\")].count() \n",
    "X_train.loc[(X_train.Name == \" Mrs\") & (X_train.SibSp == 0) & (X_train.Parch== 0) & (X_train.Embarked == \"S\")]\n",
    "X_train.Embarked.fillna(\"S\", inplace=True)\n",
    "\n",
    "df_t.Fare.fillna(df_t.Fare.mean(), inplace=True) # fill missing values in test dataframe\n",
    "\n",
    "features = ['Pclass', 'Sex', 'Age' ,'SibSp', 'Parch', 'Fare', 'Embarked']\n",
    "X = pd.get_dummies(X_train[features], drop_first=True) #change categorical variables into dummy variables \n",
    "\n",
    "test_features = ['Pclass', 'Sex', 'Age' ,'SibSp', 'Parch', 'Fare', 'Embarked']\n",
    "X_test = pd.get_dummies(df_t[test_features], drop_first=True)\n",
    "#y_test = df_t.Survived"
   ]
  },
  {
   "cell_type": "code",
   "execution_count": 22,
   "id": "6e001d93-9791-4184-90e5-9a075371c962",
   "metadata": {},
   "outputs": [],
   "source": [
    "X['label'] = y_train"
   ]
  },
  {
   "cell_type": "code",
   "execution_count": 40,
   "id": "d00cf115-d752-47a0-8bde-ea3e5c209c5b",
   "metadata": {},
   "outputs": [
    {
     "data": {
      "text/plain": [
       "array([[ 3.      ,  0.      , 22.      , ...,  0.      ,  1.      ,\n",
       "         0.      ],\n",
       "       [ 1.      ,  1.      , 38.      , ...,  0.      ,  0.      ,\n",
       "         1.      ],\n",
       "       [ 3.      ,  1.      , 26.      , ...,  0.      ,  1.      ,\n",
       "         1.      ],\n",
       "       ...,\n",
       "       [ 3.      ,  1.      , 21.773973, ...,  0.      ,  1.      ,\n",
       "         0.      ],\n",
       "       [ 1.      ,  0.      , 26.      , ...,  0.      ,  0.      ,\n",
       "         1.      ],\n",
       "       [ 3.      ,  0.      , 32.      , ...,  1.      ,  0.      ,\n",
       "         0.      ]], dtype=float32)"
      ]
     },
     "execution_count": 40,
     "metadata": {},
     "output_type": "execute_result"
    }
   ],
   "source": [
    "import numpy as np\n",
    "np.array(X,dtype=np.float32)"
   ]
  },
  {
   "cell_type": "code",
   "execution_count": 38,
   "id": "5e7aae2c-e143-4c0d-ad8d-af38f27659bd",
   "metadata": {},
   "outputs": [
    {
     "data": {
      "text/plain": [
       "Index(['Pclass', 'Sex', 'Age', 'SibSp', 'Parch', 'Fare', 'Embarked_Q',\n",
       "       'Embarked_S', 'label'],\n",
       "      dtype='object')"
      ]
     },
     "execution_count": 38,
     "metadata": {},
     "output_type": "execute_result"
    }
   ],
   "source": [
    "X.columns"
   ]
  },
  {
   "cell_type": "code",
   "execution_count": 24,
   "id": "2379a0ae-1878-4d7b-8ad1-80ab62b9e9b1",
   "metadata": {},
   "outputs": [],
   "source": [
    "X.to_csv('data/data.csv',index=False)"
   ]
  },
  {
   "cell_type": "code",
   "execution_count": 25,
   "id": "d77d4102-fc47-44c9-a435-fad7e5b50605",
   "metadata": {},
   "outputs": [
    {
     "data": {
      "text/html": [
       "<div>\n",
       "<style scoped>\n",
       "    .dataframe tbody tr th:only-of-type {\n",
       "        vertical-align: middle;\n",
       "    }\n",
       "\n",
       "    .dataframe tbody tr th {\n",
       "        vertical-align: top;\n",
       "    }\n",
       "\n",
       "    .dataframe thead th {\n",
       "        text-align: right;\n",
       "    }\n",
       "</style>\n",
       "<table border=\"1\" class=\"dataframe\">\n",
       "  <thead>\n",
       "    <tr style=\"text-align: right;\">\n",
       "      <th></th>\n",
       "      <th>Pclass</th>\n",
       "      <th>Sex</th>\n",
       "      <th>Age</th>\n",
       "      <th>SibSp</th>\n",
       "      <th>Parch</th>\n",
       "      <th>Fare</th>\n",
       "      <th>Embarked_Q</th>\n",
       "      <th>Embarked_S</th>\n",
       "      <th>label</th>\n",
       "    </tr>\n",
       "  </thead>\n",
       "  <tbody>\n",
       "    <tr>\n",
       "      <th>0</th>\n",
       "      <td>3</td>\n",
       "      <td>0</td>\n",
       "      <td>22.0</td>\n",
       "      <td>1</td>\n",
       "      <td>0</td>\n",
       "      <td>7.2500</td>\n",
       "      <td>0</td>\n",
       "      <td>1</td>\n",
       "      <td>0</td>\n",
       "    </tr>\n",
       "    <tr>\n",
       "      <th>1</th>\n",
       "      <td>1</td>\n",
       "      <td>1</td>\n",
       "      <td>38.0</td>\n",
       "      <td>1</td>\n",
       "      <td>0</td>\n",
       "      <td>71.2833</td>\n",
       "      <td>0</td>\n",
       "      <td>0</td>\n",
       "      <td>1</td>\n",
       "    </tr>\n",
       "    <tr>\n",
       "      <th>2</th>\n",
       "      <td>3</td>\n",
       "      <td>1</td>\n",
       "      <td>26.0</td>\n",
       "      <td>0</td>\n",
       "      <td>0</td>\n",
       "      <td>7.9250</td>\n",
       "      <td>0</td>\n",
       "      <td>1</td>\n",
       "      <td>1</td>\n",
       "    </tr>\n",
       "    <tr>\n",
       "      <th>3</th>\n",
       "      <td>1</td>\n",
       "      <td>1</td>\n",
       "      <td>35.0</td>\n",
       "      <td>1</td>\n",
       "      <td>0</td>\n",
       "      <td>53.1000</td>\n",
       "      <td>0</td>\n",
       "      <td>1</td>\n",
       "      <td>1</td>\n",
       "    </tr>\n",
       "    <tr>\n",
       "      <th>4</th>\n",
       "      <td>3</td>\n",
       "      <td>0</td>\n",
       "      <td>35.0</td>\n",
       "      <td>0</td>\n",
       "      <td>0</td>\n",
       "      <td>8.0500</td>\n",
       "      <td>0</td>\n",
       "      <td>1</td>\n",
       "      <td>0</td>\n",
       "    </tr>\n",
       "  </tbody>\n",
       "</table>\n",
       "</div>"
      ],
      "text/plain": [
       "   Pclass  Sex   Age  SibSp  Parch     Fare  Embarked_Q  Embarked_S  label\n",
       "0       3    0  22.0      1      0   7.2500           0           1      0\n",
       "1       1    1  38.0      1      0  71.2833           0           0      1\n",
       "2       3    1  26.0      0      0   7.9250           0           1      1\n",
       "3       1    1  35.0      1      0  53.1000           0           1      1\n",
       "4       3    0  35.0      0      0   8.0500           0           1      0"
      ]
     },
     "execution_count": 25,
     "metadata": {},
     "output_type": "execute_result"
    }
   ],
   "source": [
    "df = pd.read_csv('data/data.csv')\n",
    "df.head()"
   ]
  },
  {
   "cell_type": "markdown",
   "id": "35552b85-0db7-4f3d-9710-b8a21354cdc4",
   "metadata": {},
   "source": [
    "## Model"
   ]
  },
  {
   "cell_type": "code",
   "execution_count": 68,
   "id": "a89bc355-d8b8-42cd-b832-2ec0498f628e",
   "metadata": {},
   "outputs": [],
   "source": [
    "import torch\n",
    "from torch import nn\n",
    "from torch.nn import functional as F\n",
    "from pathlib import Path\n",
    "import pytorch_lightning as pl\n",
    "#from pytorch_lightning.metrics import functional\n",
    "import os\n"
   ]
  },
  {
   "cell_type": "code",
   "execution_count": 69,
   "id": "afbcb7cc-57ca-45fe-8848-5545a25e4aa2",
   "metadata": {},
   "outputs": [],
   "source": [
    "class TitanicDataSet(torch.utils.data.Dataset):\n",
    "    def __init__(self,mode='train',data_dir='/Users/vinay/Projects/MLOPS/Pylg/data',split = [0.7,0.5]):\n",
    "        self.mode = mode\n",
    "        self.split = split\n",
    "        if data_dir:\n",
    "            self.data_dir = Path(data_dir)\n",
    "        else:\n",
    "            pwd = os.getcwd()\n",
    "            self.data_dir = Path(pwd)/'data'\n",
    "        self.data = self.get_split()\n",
    "        self.input_cols = ['Pclass', 'Sex', 'Age', 'SibSp', 'Parch', 'Fare', 'Embarked_Q',\n",
    "       'Embarked_S']\n",
    "        self.label_cols = ['label']\n",
    "        \n",
    "    def __getitem__(self,index):\n",
    "        x = self.data[self.input_cols].iloc[index]\n",
    "        y = self.data[self.label_cols].iloc[index]\n",
    "        return np.array(x,dtype=np.float32),np.array(y,dtype=np.int32)\n",
    "    \n",
    "    def __len__(self):\n",
    "        return len(self.data)\n",
    "    \n",
    "    def get_split(self):\n",
    "        data = pd.read_csv(self.data_dir/'data.csv')\n",
    "        \n",
    "        ids = np.random.permutation(len(data))\n",
    "        train_id = int(len(ids)*self.split[0])\n",
    "        valid_id = train_id + int((len(ids)-train_id-1)*self.split[-1])\n",
    "        if self.mode == 'train':\n",
    "            return data.iloc[ids[:train_id]]\n",
    "        elif self.mode == 'valid':\n",
    "            return data.iloc[ids[train_id:valid_id]]\n",
    "        else:\n",
    "            return data.iloc[valid_id:]\n",
    "        \n",
    "        "
   ]
  },
  {
   "cell_type": "code",
   "execution_count": null,
   "id": "19f2e197-ad61-4361-91a8-750dfbcda498",
   "metadata": {},
   "outputs": [],
   "source": []
  },
  {
   "cell_type": "code",
   "execution_count": 62,
   "id": "9ec9f052-28dd-4eac-befb-1bfc2750556e",
   "metadata": {},
   "outputs": [],
   "source": [
    "dset = TitanicDataSet()"
   ]
  },
  {
   "cell_type": "code",
   "execution_count": 63,
   "id": "74073e09-256b-446c-9fed-92cfbbc3bda2",
   "metadata": {},
   "outputs": [
    {
     "name": "stdout",
     "output_type": "stream",
     "text": [
      "[ 3.        1.       21.773973  3.        1.       25.4667    0.\n",
      "  1.      ]\n",
      "[0]\n"
     ]
    }
   ],
   "source": [
    "for x,y in dset:\n",
    "    print(x)\n",
    "    print(y)\n",
    "    break"
   ]
  },
  {
   "cell_type": "code",
   "execution_count": 65,
   "id": "cfcd39b6-a9d3-4e8f-b127-9c823af51cae",
   "metadata": {},
   "outputs": [],
   "source": [
    "dloader = torch.utils.data.DataLoader(dset, batch_size=10, shuffle=True)"
   ]
  },
  {
   "cell_type": "code",
   "execution_count": 66,
   "id": "b155f651-0dea-4b33-be06-7791e649c387",
   "metadata": {},
   "outputs": [
    {
     "name": "stdout",
     "output_type": "stream",
     "text": [
      "torch.Size([10, 8])\n",
      "torch.Size([10, 1])\n"
     ]
    }
   ],
   "source": [
    "for x_b,y_b in dloader:\n",
    "    print(x_b.shape)\n",
    "    print(y_b.shape)\n",
    "    break"
   ]
  },
  {
   "cell_type": "markdown",
   "id": "63086f02-9bf6-4232-95dc-9f2ff77e20eb",
   "metadata": {},
   "source": [
    "## Modeling"
   ]
  },
  {
   "cell_type": "code",
   "execution_count": 71,
   "id": "d3ded63a-e0d0-4df6-a55f-337bf9eb0a04",
   "metadata": {},
   "outputs": [],
   "source": [
    "def accuracy(y_hat,y):\n",
    "    return torch.mean(y_hat == y)\n",
    "\n",
    "\n",
    "\n",
    "class Model(pl.LightningModule):\n",
    "    def __init__(self,hparams):\n",
    "        super().init()\n",
    "        self.save_hyperparameters(hparams)\n",
    "        self.linear1 = nn.Linear(hparams.input_sz,hparams.ll1)\n",
    "        self.linear2 = nn.Linear(hparams.ll1,hparams.ll2)\n",
    "        self.outlayer = nn.Linear(hparams.ll2,2)\n",
    "        \n",
    "    def forward(self,x):\n",
    "        x = F.relu(self.linear1(x))\n",
    "        x = F.relu(self.linear2(x))\n",
    "        x = self.outlayer(x)\n",
    "        return x\n",
    "    \n",
    "    def training_step(self,batch,batch_idx):\n",
    "        x,y = batch\n",
    "        y_hat = self(x)\n",
    "        loss = F.cross_entropy(y_hat,y)\n",
    "        self.log('train_loss', loss, on_step=True)\n",
    "        return loss\n",
    "        \n",
    "    def validation_step(self,batch,batch_idx):\n",
    "        x,y = batch\n",
    "        y_hat = torch.argmax(y_hat, dim=1)\n",
    "        acc = accuracy(y_hat, y)\n",
    "        self.log('val_acc', acc, on_epoch=True, prog_bar=True)\n",
    "        return acc\n",
    "        \n",
    "    def configure_optimizers(self):\n",
    "        optimizer = torch.optim.Adam(self.parameters(), lr=self.hparams.optimizer.lr)\n",
    "        return optimizer\n",
    "        \n",
    "        "
   ]
  },
  {
   "cell_type": "code",
   "execution_count": null,
   "id": "2ca17763-b049-4e2f-a40e-9ac18b7c2ce5",
   "metadata": {},
   "outputs": [],
   "source": []
  },
  {
   "cell_type": "code",
   "execution_count": null,
   "id": "bde5052a-c0c6-4676-9b5e-9302ed83b9cc",
   "metadata": {},
   "outputs": [],
   "source": []
  }
 ],
 "metadata": {
  "kernelspec": {
   "display_name": "Python 3 (ipykernel)",
   "language": "python",
   "name": "python3"
  },
  "language_info": {
   "codemirror_mode": {
    "name": "ipython",
    "version": 3
   },
   "file_extension": ".py",
   "mimetype": "text/x-python",
   "name": "python",
   "nbconvert_exporter": "python",
   "pygments_lexer": "ipython3",
   "version": "3.9.9"
  }
 },
 "nbformat": 4,
 "nbformat_minor": 5
}
